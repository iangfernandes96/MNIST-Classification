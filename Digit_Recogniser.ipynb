{
 "cells": [
  {
   "cell_type": "markdown",
   "metadata": {},
   "source": [
    "# Importing modules"
   ]
  },
  {
   "cell_type": "code",
   "execution_count": 1,
   "metadata": {},
   "outputs": [
    {
     "name": "stderr",
     "output_type": "stream",
     "text": [
      "Using Theano backend.\n"
     ]
    }
   ],
   "source": [
    "import matplotlib.pyplot as plt\n",
    "import numpy as np\n",
    "import keras\n",
    "from keras.datasets import mnist\n",
    "from keras.models import Sequential\n",
    "from keras.layers import Dense, Dropout\n",
    "from keras.optimizers import SGD\n",
    "from keras.optimizers import Adagrad\n",
    "from keras.utils import np_utils\n",
    "np.random.seed(2018)\n",
    "% matplotlib inline"
   ]
  },
  {
   "cell_type": "markdown",
   "metadata": {},
   "source": [
    "# Loading MNIST dataset"
   ]
  },
  {
   "cell_type": "code",
   "execution_count": 2,
   "metadata": {},
   "outputs": [
    {
     "name": "stdout",
     "output_type": "stream",
     "text": [
      "Number of training samples: 60000\n",
      "Number of test samples: 10000\n",
      "Image rows: 28\n",
      "Image columns: 28\n",
      "Number of classes: 10\n"
     ]
    }
   ],
   "source": [
    "(train_features, train_labels), (test_features, test_labels) = mnist.load_data()\n",
    "_, img_rows, img_cols =  train_features.shape\n",
    "num_classes = len(np.unique(train_labels))\n",
    "num_input_nodes = img_rows*img_cols\n",
    "print (\"Number of training samples:\",train_features.shape[0])\n",
    "print (\"Number of test samples:\",test_features.shape[0])\n",
    "print (\"Image rows:\",train_features.shape[1])\n",
    "print (\"Image columns:\",train_features.shape[2])\n",
    "print (\"Number of classes:\",num_classes)"
   ]
  },
  {
   "cell_type": "markdown",
   "metadata": {},
   "source": [
    "# Show Examples from Each Class"
   ]
  },
  {
   "cell_type": "code",
   "execution_count": 3,
   "metadata": {},
   "outputs": [
    {
     "data": {
      "image/png": "[encoded data removed]",
      "text/plain": [
       "<matplotlib.figure.Figure at 0x7f5d59087eb8>"
      ]
     },
     "metadata": {},
     "output_type": "display_data"
    }
   ],
   "source": [
    "fig = plt.figure(figsize=(8,3))\n",
    "for i in range(num_classes):\n",
    "    ax = fig.add_subplot(2, 5, 1 + i, xticks=[], yticks=[])\n",
    "    features_idx = train_features[train_labels[:]==i,:]\n",
    "    ax.set_title(\"Num: \" + str(i))\n",
    "    plt.imshow(features_idx[1], cmap=\"gray\")\n",
    "plt.show()"
   ]
  },
  {
   "cell_type": "markdown",
   "metadata": {},
   "source": [
    "# Preprocessing data\n"
   ]
  },
  {
   "cell_type": "code",
   "execution_count": 4,
   "metadata": {},
   "outputs": [],
   "source": [
    "# reshape images to column vectors\n",
    "train_features = train_features.reshape(train_features.shape[0], img_rows*img_cols)\n",
    "test_features = test_features.reshape(test_features.shape[0], img_rows*img_cols)\n",
    "# convert class labels to binary class labels\n",
    "train_labels = np_utils.to_categorical(train_labels, num_classes)\n",
    "test_labels = np_utils.to_categorical(test_labels, num_classes)"
   ]
  },
  {
   "cell_type": "markdown",
   "metadata": {},
   "source": [
    "## Consider batch_size=100 and epochs=10"
   ]
  },
  {
   "cell_type": "code",
   "execution_count": 5,
   "metadata": {
    "collapsed": true
   },
   "outputs": [],
   "source": [
    "batch_size = 100\n",
    "epochs = 10"
   ]
  },
  {
   "cell_type": "markdown",
   "metadata": {},
   "source": [
    "# First model: \n",
    "- 1 hidden layer with 512 nodes \n",
    "- Hidden layer uses tanh activation\n",
    "- Output layer uses sigmoid activation"
   ]
  },
  {
   "cell_type": "code",
   "execution_count": 6,
   "metadata": {
    "collapsed": true
   },
   "outputs": [],
   "source": [
    "#Initialise model\n",
    "model = Sequential()\n",
    "#Add input and hidden layer\n",
    "model.add(Dense(512, activation='tanh', input_dim = num_input_nodes))\n",
    "#Add output layer\n",
    "model.add(Dense(num_classes, activation='sigmoid'))"
   ]
  },
  {
   "cell_type": "code",
   "execution_count": 7,
   "metadata": {},
   "outputs": [
    {
     "name": "stdout",
     "output_type": "stream",
     "text": [
      "_________________________________________________________________\n",
      "Layer (type)                 Output Shape              Param #   \n",
      "=================================================================\n",
      "dense_1 (Dense)              (None, 512)               401920    \n",
      "_________________________________________________________________\n",
      "dense_2 (Dense)              (None, 10)                5130      \n",
      "=================================================================\n",
      "Total params: 407,050\n",
      "Trainable params: 407,050\n",
      "Non-trainable params: 0\n",
      "_________________________________________________________________\n"
     ]
    }
   ],
   "source": [
    "#Print model information\n",
    "model.summary()"
   ]
  },
  {
   "cell_type": "code",
   "execution_count": 8,
   "metadata": {
    "collapsed": true
   },
   "outputs": [],
   "source": [
    "#Compiling model: Using categorical crossentropy loss function and sgd optimiser \n",
    "model.compile(loss='categorical_crossentropy',\n",
    "              optimizer='sgd',\n",
    "              metrics=['accuracy'])\n"
   ]
  },
  {
   "cell_type": "code",
   "execution_count": 9,
   "metadata": {},
   "outputs": [
    {
     "name": "stdout",
     "output_type": "stream",
     "text": [
      "Train on 60000 samples, validate on 10000 samples\n",
      "Epoch 1/10\n",
      "60000/60000 [==============================] - 4s - loss: 0.6371 - acc: 0.8182 - val_loss: 0.3503 - val_acc: 0.9080\n",
      "Epoch 2/10\n",
      "60000/60000 [==============================] - 4s - loss: 0.3188 - acc: 0.9125 - val_loss: 0.2678 - val_acc: 0.9264\n",
      "Epoch 3/10\n",
      "60000/60000 [==============================] - 4s - loss: 0.2655 - acc: 0.9254 - val_loss: 0.2411 - val_acc: 0.9319\n",
      "Epoch 4/10\n",
      "60000/60000 [==============================] - 4s - loss: 0.2396 - acc: 0.9330 - val_loss: 0.2288 - val_acc: 0.9351\n",
      "Epoch 5/10\n",
      "60000/60000 [==============================] - 4s - loss: 0.2161 - acc: 0.9389 - val_loss: 0.2127 - val_acc: 0.9390\n",
      "Epoch 6/10\n",
      "60000/60000 [==============================] - 4s - loss: 0.2010 - acc: 0.9433 - val_loss: 0.1948 - val_acc: 0.9437\n",
      "Epoch 7/10\n",
      "60000/60000 [==============================] - 4s - loss: 0.1853 - acc: 0.9473 - val_loss: 0.1815 - val_acc: 0.9485\n",
      "Epoch 8/10\n",
      "60000/60000 [==============================] - 4s - loss: 0.1784 - acc: 0.9492 - val_loss: 0.1777 - val_acc: 0.9487\n",
      "Epoch 9/10\n",
      "60000/60000 [==============================] - 4s - loss: 0.1681 - acc: 0.9522 - val_loss: 0.1756 - val_acc: 0.9480\n",
      "Epoch 10/10\n",
      "60000/60000 [==============================] - 4s - loss: 0.1613 - acc: 0.9537 - val_loss: 0.1655 - val_acc: 0.9513\n",
      "Test loss: 0.165545813996\n",
      "Test accuracy: 0.9513\n"
     ]
    }
   ],
   "source": [
    "model_info = model.fit(train_features, train_labels,\n",
    "                    batch_size=batch_size,\n",
    "                    epochs=epochs,\n",
    "                    verbose=1,\n",
    "                    validation_data=(test_features, test_labels))\n",
    "#Evaluating model\n",
    "score = model.evaluate(test_features, test_labels, verbose=0)\n",
    "print('Test loss:', score[0])\n",
    "print('Test accuracy:', score[1])"
   ]
  },
  {
   "cell_type": "markdown",
   "metadata": {},
   "source": [
    "# Second Model:\n",
    "- 2 hidden layer with 512 nodes with tanh activation\n",
    "- Output layer uses sigmoid activation"
   ]
  },
  {
   "cell_type": "code",
   "execution_count": 10,
   "metadata": {
    "collapsed": true
   },
   "outputs": [],
   "source": [
    "#Initialise model\n",
    "model = Sequential()\n",
    "#Add input and 1st hidden layer\n",
    "model.add(Dense(512, activation='tanh', input_dim = num_input_nodes))\n",
    "#Add 2nd hidden layer\n",
    "model.add(Dense(512, activation='tanh'))\n",
    "#Add output layer\n",
    "model.add(Dense(num_classes, activation='sigmoid'))"
   ]
  },
  {
   "cell_type": "code",
   "execution_count": 11,
   "metadata": {
    "scrolled": true
   },
   "outputs": [
    {
     "name": "stdout",
     "output_type": "stream",
     "text": [
      "_________________________________________________________________\n",
      "Layer (type)                 Output Shape              Param #   \n",
      "=================================================================\n",
      "dense_3 (Dense)              (None, 512)               401920    \n",
      "_________________________________________________________________\n",
      "dense_4 (Dense)              (None, 512)               262656    \n",
      "_________________________________________________________________\n",
      "dense_5 (Dense)              (None, 10)                5130      \n",
      "=================================================================\n",
      "Total params: 669,706\n",
      "Trainable params: 669,706\n",
      "Non-trainable params: 0\n",
      "_________________________________________________________________\n"
     ]
    }
   ],
   "source": [
    "#Print model information\n",
    "model.summary()"
   ]
  },
  {
   "cell_type": "code",
   "execution_count": 12,
   "metadata": {
    "collapsed": true
   },
   "outputs": [],
   "source": [
    "#Compiling model: Using categorical crossentropy loss function and sgd optimiser \n",
    "model.compile(loss='categorical_crossentropy',\n",
    "              optimizer='sgd',\n",
    "              metrics=['accuracy'])\n"
   ]
  },
  {
   "cell_type": "code",
   "execution_count": 13,
   "metadata": {},
   "outputs": [
    {
     "name": "stdout",
     "output_type": "stream",
     "text": [
      "Train on 60000 samples, validate on 10000 samples\n",
      "Epoch 1/10\n",
      "60000/60000 [==============================] - 9s - loss: 0.6965 - acc: 0.8236 - val_loss: 0.3540 - val_acc: 0.9086\n",
      "Epoch 2/10\n",
      "60000/60000 [==============================] - 8s - loss: 0.3161 - acc: 0.9144 - val_loss: 0.2791 - val_acc: 0.9255\n",
      "Epoch 3/10\n",
      "60000/60000 [==============================] - 8s - loss: 0.2590 - acc: 0.9280 - val_loss: 0.2379 - val_acc: 0.9336\n",
      "Epoch 4/10\n",
      "60000/60000 [==============================] - 8s - loss: 0.2285 - acc: 0.9360 - val_loss: 0.2163 - val_acc: 0.9390\n",
      "Epoch 5/10\n",
      "60000/60000 [==============================] - 8s - loss: 0.2079 - acc: 0.9404 - val_loss: 0.2066 - val_acc: 0.9431\n",
      "Epoch 6/10\n",
      "60000/60000 [==============================] - 8s - loss: 0.1988 - acc: 0.9437 - val_loss: 0.1942 - val_acc: 0.9441\n",
      "Epoch 7/10\n",
      "60000/60000 [==============================] - 8s - loss: 0.1830 - acc: 0.9480 - val_loss: 0.1824 - val_acc: 0.9481\n",
      "Epoch 8/10\n",
      "60000/60000 [==============================] - 8s - loss: 0.1727 - acc: 0.9505 - val_loss: 0.1740 - val_acc: 0.9479\n",
      "Epoch 9/10\n",
      "60000/60000 [==============================] - 8s - loss: 0.1669 - acc: 0.9530 - val_loss: 0.1705 - val_acc: 0.9497\n",
      "Epoch 10/10\n",
      "60000/60000 [==============================] - 8s - loss: 0.1584 - acc: 0.9542 - val_loss: 0.1659 - val_acc: 0.9511\n",
      "Test loss: 0.165906652528\n",
      "Test accuracy: 0.9511\n"
     ]
    }
   ],
   "source": [
    "#Training model\n",
    "history = model.fit(train_features, train_labels,\n",
    "                    batch_size=batch_size,\n",
    "                    epochs=epochs,\n",
    "                    verbose=1,\n",
    "                    validation_data=(test_features, test_labels))\n",
    "#Evaluating model\n",
    "score = model.evaluate(test_features, test_labels, verbose=0)\n",
    "print('Test loss:', score[0])\n",
    "print('Test accuracy:', score[1])"
   ]
  },
  {
   "cell_type": "markdown",
   "metadata": {},
   "source": [
    "# Third Model:\n",
    "- 1 hidden layer with 512 nodes with sigmoid activation\n",
    "- Output layer uses softmax activation\n",
    "\n",
    "\n",
    "\n"
   ]
  },
  {
   "cell_type": "code",
   "execution_count": 14,
   "metadata": {
    "collapsed": true
   },
   "outputs": [],
   "source": [
    "#Initialise model\n",
    "model = Sequential()\n",
    "#Add input and hidden layer\n",
    "model.add(Dense(512, activation='sigmoid', input_dim = num_input_nodes))\n",
    "#Add output layer\n",
    "model.add(Dense(num_classes, activation='softmax'))"
   ]
  },
  {
   "cell_type": "code",
   "execution_count": 15,
   "metadata": {
    "scrolled": true
   },
   "outputs": [
    {
     "name": "stdout",
     "output_type": "stream",
     "text": [
      "_________________________________________________________________\n",
      "Layer (type)                 Output Shape              Param #   \n",
      "=================================================================\n",
      "dense_6 (Dense)              (None, 512)               401920    \n",
      "_________________________________________________________________\n",
      "dense_7 (Dense)              (None, 10)                5130      \n",
      "=================================================================\n",
      "Total params: 407,050\n",
      "Trainable params: 407,050\n",
      "Non-trainable params: 0\n",
      "_________________________________________________________________\n"
     ]
    }
   ],
   "source": [
    "#Print model information\n",
    "model.summary()"
   ]
  },
  {
   "cell_type": "code",
   "execution_count": 16,
   "metadata": {
    "collapsed": true
   },
   "outputs": [],
   "source": [
    "#Compiling model: Using categorical crossentropy loss function and sgd optimiser \n",
    "model.compile(loss='categorical_crossentropy',\n",
    "              optimizer='sgd',\n",
    "              metrics=['accuracy'])\n"
   ]
  },
  {
   "cell_type": "code",
   "execution_count": 17,
   "metadata": {
    "scrolled": true
   },
   "outputs": [
    {
     "name": "stdout",
     "output_type": "stream",
     "text": [
      "Train on 60000 samples, validate on 10000 samples\n",
      "Epoch 1/10\n",
      "60000/60000 [==============================] - 12s - loss: 0.6506 - acc: 0.8337 - val_loss: 0.3719 - val_acc: 0.9040\n",
      "Epoch 2/10\n",
      "60000/60000 [==============================] - 11s - loss: 0.3319 - acc: 0.9114 - val_loss: 0.2945 - val_acc: 0.9208\n",
      "Epoch 3/10\n",
      "60000/60000 [==============================] - 12s - loss: 0.2728 - acc: 0.9256 - val_loss: 0.2558 - val_acc: 0.9305\n",
      "Epoch 4/10\n",
      "60000/60000 [==============================] - 11s - loss: 0.2383 - acc: 0.9350 - val_loss: 0.2304 - val_acc: 0.9361\n",
      "Epoch 5/10\n",
      "60000/60000 [==============================] - 11s - loss: 0.2132 - acc: 0.9417 - val_loss: 0.2137 - val_acc: 0.9415\n",
      "Epoch 6/10\n",
      "60000/60000 [==============================] - 11s - loss: 0.1944 - acc: 0.9473 - val_loss: 0.2004 - val_acc: 0.9430\n",
      "Epoch 7/10\n",
      "60000/60000 [==============================] - 12s - loss: 0.1788 - acc: 0.9515 - val_loss: 0.1890 - val_acc: 0.9458\n",
      "Epoch 8/10\n",
      "60000/60000 [==============================] - 12s - loss: 0.1674 - acc: 0.9555 - val_loss: 0.1823 - val_acc: 0.9467\n",
      "Epoch 9/10\n",
      "60000/60000 [==============================] - 12s - loss: 0.1558 - acc: 0.9583 - val_loss: 0.1759 - val_acc: 0.9502\n",
      "Epoch 10/10\n",
      "60000/60000 [==============================] - 11s - loss: 0.1465 - acc: 0.9616 - val_loss: 0.1675 - val_acc: 0.9512\n",
      "Test loss: 0.167488641082\n",
      "Test accuracy: 0.9512\n"
     ]
    }
   ],
   "source": [
    "history = model.fit(train_features, train_labels,\n",
    "                    batch_size=batch_size,\n",
    "                    epochs=epochs,\n",
    "                    verbose=1,\n",
    "                    validation_data=(test_features, test_labels))\n",
    "score = model.evaluate(test_features, test_labels, verbose=0)\n",
    "print('Test loss:', score[0])\n",
    "print('Test accuracy:', score[1])"
   ]
  },
  {
   "cell_type": "markdown",
   "metadata": {},
   "source": [
    "# Fourth Model:\n",
    "- 2 hidden layer with 512 nodes with sigmoid activation\n",
    "- Output layer uses softmax activation"
   ]
  },
  {
   "cell_type": "code",
   "execution_count": 18,
   "metadata": {
    "collapsed": true
   },
   "outputs": [],
   "source": [
    "#Initialise model\n",
    "model = Sequential()\n",
    "#Add input and 1st hidden layer\n",
    "model.add(Dense(512, activation='sigmoid', input_dim = num_input_nodes))\n",
    "#Add 2nd hidden layer\n",
    "model.add(Dense(512, activation='sigmoid'))\n",
    "#Add output layer\n",
    "model.add(Dense(num_classes, activation='softmax'))"
   ]
  },
  {
   "cell_type": "code",
   "execution_count": 19,
   "metadata": {},
   "outputs": [
    {
     "name": "stdout",
     "output_type": "stream",
     "text": [
      "_________________________________________________________________\n",
      "Layer (type)                 Output Shape              Param #   \n",
      "=================================================================\n",
      "dense_8 (Dense)              (None, 512)               401920    \n",
      "_________________________________________________________________\n",
      "dense_9 (Dense)              (None, 512)               262656    \n",
      "_________________________________________________________________\n",
      "dense_10 (Dense)             (None, 10)                5130      \n",
      "=================================================================\n",
      "Total params: 669,706\n",
      "Trainable params: 669,706\n",
      "Non-trainable params: 0\n",
      "_________________________________________________________________\n"
     ]
    }
   ],
   "source": [
    "#Print model information\n",
    "model.summary()"
   ]
  },
  {
   "cell_type": "code",
   "execution_count": 20,
   "metadata": {
    "collapsed": true
   },
   "outputs": [],
   "source": [
    "#Compiling model: Using categorical crossentropy loss function and sgd optimiser\n",
    "model.compile(loss='categorical_crossentropy',\n",
    "              optimizer='sgd',\n",
    "              metrics=['accuracy'])\n"
   ]
  },
  {
   "cell_type": "code",
   "execution_count": 21,
   "metadata": {},
   "outputs": [
    {
     "name": "stdout",
     "output_type": "stream",
     "text": [
      "Train on 60000 samples, validate on 10000 samples\n",
      "Epoch 1/10\n",
      "60000/60000 [==============================] - 18s - loss: 1.4236 - acc: 0.7154 - val_loss: 0.8506 - val_acc: 0.8388\n",
      "Epoch 2/10\n",
      "60000/60000 [==============================] - 19s - loss: 0.6622 - acc: 0.8645 - val_loss: 0.5177 - val_acc: 0.8835\n",
      "Epoch 3/10\n",
      "60000/60000 [==============================] - 19s - loss: 0.4607 - acc: 0.8914 - val_loss: 0.3995 - val_acc: 0.9015\n",
      "Epoch 4/10\n",
      "60000/60000 [==============================] - 19s - loss: 0.3759 - acc: 0.9063 - val_loss: 0.3430 - val_acc: 0.9136\n",
      "Epoch 5/10\n",
      "60000/60000 [==============================] - 18s - loss: 0.3271 - acc: 0.9144 - val_loss: 0.3088 - val_acc: 0.9180\n",
      "Epoch 6/10\n",
      "60000/60000 [==============================] - 18s - loss: 0.2950 - acc: 0.9211 - val_loss: 0.2850 - val_acc: 0.9221\n",
      "Epoch 7/10\n",
      "60000/60000 [==============================] - 18s - loss: 0.2708 - acc: 0.9270 - val_loss: 0.2671 - val_acc: 0.9280\n",
      "Epoch 8/10\n",
      "60000/60000 [==============================] - 18s - loss: 0.2518 - acc: 0.9312 - val_loss: 0.2518 - val_acc: 0.9307\n",
      "Epoch 9/10\n",
      "60000/60000 [==============================] - 18s - loss: 0.2361 - acc: 0.9349 - val_loss: 0.2401 - val_acc: 0.9334\n",
      "Epoch 10/10\n",
      "60000/60000 [==============================] - 18s - loss: 0.2225 - acc: 0.9390 - val_loss: 0.2302 - val_acc: 0.9356\n",
      "Test loss: 0.230201293856\n",
      "Test accuracy: 0.9356\n"
     ]
    }
   ],
   "source": [
    "#Training model\n",
    "history = model.fit(train_features, train_labels,\n",
    "                    batch_size=batch_size,\n",
    "                    epochs=epochs,\n",
    "                    verbose=1,\n",
    "                    validation_data=(test_features, test_labels))\n",
    "#Evaluating model\n",
    "score = model.evaluate(test_features, test_labels, verbose=0)\n",
    "print('Test loss:', score[0])\n",
    "print('Test accuracy:', score[1])"
   ]
  },
  {
   "cell_type": "markdown",
   "metadata": {},
   "source": [
    "# Fifth Model:\n",
    "- 1 hidden layer with 512 nodes with sigmoid activation\n",
    "- Output layer uses sigmoid activation"
   ]
  },
  {
   "cell_type": "code",
   "execution_count": 22,
   "metadata": {
    "collapsed": true
   },
   "outputs": [],
   "source": [
    "#Initialise model\n",
    "model = Sequential()\n",
    "#Add input and 1st hidden layer\n",
    "model.add(Dense(512, activation='sigmoid', input_dim = num_input_nodes))\n",
    "#Add output layer\n",
    "model.add(Dense(num_classes, activation='sigmoid'))"
   ]
  },
  {
   "cell_type": "code",
   "execution_count": 23,
   "metadata": {},
   "outputs": [
    {
     "name": "stdout",
     "output_type": "stream",
     "text": [
      "_________________________________________________________________\n",
      "Layer (type)                 Output Shape              Param #   \n",
      "=================================================================\n",
      "dense_11 (Dense)             (None, 512)               401920    \n",
      "_________________________________________________________________\n",
      "dense_12 (Dense)             (None, 10)                5130      \n",
      "=================================================================\n",
      "Total params: 407,050\n",
      "Trainable params: 407,050\n",
      "Non-trainable params: 0\n",
      "_________________________________________________________________\n"
     ]
    }
   ],
   "source": [
    "#Print model information\n",
    "model.summary()"
   ]
  },
  {
   "cell_type": "code",
   "execution_count": 24,
   "metadata": {
    "collapsed": true
   },
   "outputs": [],
   "source": [
    "#Compiling model: Using categorical crossentropy loss function and sgd optimiser\n",
    "model.compile(loss='categorical_crossentropy',\n",
    "              optimizer='sgd',\n",
    "              metrics=['accuracy'])\n"
   ]
  },
  {
   "cell_type": "code",
   "execution_count": 25,
   "metadata": {},
   "outputs": [
    {
     "name": "stdout",
     "output_type": "stream",
     "text": [
      "Train on 60000 samples, validate on 10000 samples\n",
      "Epoch 1/10\n",
      "60000/60000 [==============================] - 11s - loss: 0.8293 - acc: 0.7925 - val_loss: 0.4053 - val_acc: 0.9039\n",
      "Epoch 2/10\n",
      "60000/60000 [==============================] - 11s - loss: 0.3609 - acc: 0.9071 - val_loss: 0.3084 - val_acc: 0.9229\n",
      "Epoch 3/10\n",
      "60000/60000 [==============================] - 11s - loss: 0.2883 - acc: 0.9232 - val_loss: 0.2631 - val_acc: 0.9315\n",
      "Epoch 4/10\n",
      "60000/60000 [==============================] - 11s - loss: 0.2488 - acc: 0.9336 - val_loss: 0.2361 - val_acc: 0.9369\n",
      "Epoch 5/10\n",
      "60000/60000 [==============================] - 11s - loss: 0.2225 - acc: 0.9398 - val_loss: 0.2160 - val_acc: 0.9420\n",
      "Epoch 6/10\n",
      "60000/60000 [==============================] - 11s - loss: 0.2018 - acc: 0.9454 - val_loss: 0.1998 - val_acc: 0.9446\n",
      "Epoch 7/10\n",
      "60000/60000 [==============================] - 11s - loss: 0.1854 - acc: 0.9499 - val_loss: 0.1902 - val_acc: 0.9475\n",
      "Epoch 8/10\n",
      "60000/60000 [==============================] - 10s - loss: 0.1723 - acc: 0.9531 - val_loss: 0.1827 - val_acc: 0.9480\n",
      "Epoch 9/10\n",
      "60000/60000 [==============================] - 12s - loss: 0.1616 - acc: 0.9566 - val_loss: 0.1754 - val_acc: 0.9496\n",
      "Epoch 10/10\n",
      "60000/60000 [==============================] - 11s - loss: 0.1508 - acc: 0.9603 - val_loss: 0.1701 - val_acc: 0.9513\n",
      "Test loss: 0.170108123621\n",
      "Test accuracy: 0.9513\n"
     ]
    }
   ],
   "source": [
    "#Training model\n",
    "history = model.fit(train_features, train_labels,\n",
    "                    batch_size=batch_size,\n",
    "                    epochs=epochs,\n",
    "                    verbose=1,\n",
    "                    validation_data=(test_features, test_labels))\n",
    "#Evaluating model\n",
    "score = model.evaluate(test_features, test_labels, verbose=0)\n",
    "print('Test loss:', score[0])\n",
    "print('Test accuracy:', score[1])"
   ]
  },
  {
   "cell_type": "markdown",
   "metadata": {},
   "source": [
    "# Sixth Model:\n",
    "- 2 hidden layer with 512 nodes with sigmoid activation\n",
    "- Output layer uses sigmoid activation"
   ]
  },
  {
   "cell_type": "code",
   "execution_count": 26,
   "metadata": {
    "collapsed": true
   },
   "outputs": [],
   "source": [
    "#Initialise model\n",
    "model = Sequential()\n",
    "#Add input and 1st hidden layer\n",
    "model.add(Dense(512, activation='sigmoid', input_dim = num_input_nodes))\n",
    "#Add 2nd hidden layer\n",
    "model.add(Dense(512, activation='sigmoid'))\n",
    "#Add output layer\n",
    "model.add(Dense(num_classes, activation='sigmoid'))"
   ]
  },
  {
   "cell_type": "code",
   "execution_count": 27,
   "metadata": {},
   "outputs": [
    {
     "name": "stdout",
     "output_type": "stream",
     "text": [
      "_________________________________________________________________\n",
      "Layer (type)                 Output Shape              Param #   \n",
      "=================================================================\n",
      "dense_13 (Dense)             (None, 512)               401920    \n",
      "_________________________________________________________________\n",
      "dense_14 (Dense)             (None, 512)               262656    \n",
      "_________________________________________________________________\n",
      "dense_15 (Dense)             (None, 10)                5130      \n",
      "=================================================================\n",
      "Total params: 669,706\n",
      "Trainable params: 669,706\n",
      "Non-trainable params: 0\n",
      "_________________________________________________________________\n"
     ]
    }
   ],
   "source": [
    "#Print model information\n",
    "model.summary()"
   ]
  },
  {
   "cell_type": "code",
   "execution_count": 28,
   "metadata": {
    "collapsed": true
   },
   "outputs": [],
   "source": [
    "#Compiling model: Using categorical crossentropy loss function and sgd optimiser\n",
    "model.compile(loss='categorical_crossentropy',\n",
    "              optimizer='sgd',\n",
    "              metrics=['accuracy'])\n"
   ]
  },
  {
   "cell_type": "code",
   "execution_count": 29,
   "metadata": {},
   "outputs": [
    {
     "name": "stdout",
     "output_type": "stream",
     "text": [
      "Train on 60000 samples, validate on 10000 samples\n",
      "Epoch 1/10\n",
      "60000/60000 [==============================] - 16s - loss: 1.7430 - acc: 0.6150 - val_loss: 1.0830 - val_acc: 0.8173\n",
      "Epoch 2/10\n",
      "60000/60000 [==============================] - 17s - loss: 0.8011 - acc: 0.8472 - val_loss: 0.5951 - val_acc: 0.8807\n",
      "Epoch 3/10\n",
      "60000/60000 [==============================] - 18s - loss: 0.5170 - acc: 0.8863 - val_loss: 0.4362 - val_acc: 0.8999\n",
      "Epoch 4/10\n",
      "60000/60000 [==============================] - 19s - loss: 0.4046 - acc: 0.9022 - val_loss: 0.3631 - val_acc: 0.9102\n",
      "Epoch 5/10\n",
      "60000/60000 [==============================] - 19s - loss: 0.3443 - acc: 0.9130 - val_loss: 0.3200 - val_acc: 0.9166\n",
      "Epoch 6/10\n",
      "60000/60000 [==============================] - 17s - loss: 0.3063 - acc: 0.9197 - val_loss: 0.2939 - val_acc: 0.9235\n",
      "Epoch 7/10\n",
      "60000/60000 [==============================] - 18s - loss: 0.2793 - acc: 0.9251 - val_loss: 0.2720 - val_acc: 0.9276\n",
      "Epoch 8/10\n",
      "60000/60000 [==============================] - 18s - loss: 0.2582 - acc: 0.9305 - val_loss: 0.2563 - val_acc: 0.9305\n",
      "Epoch 9/10\n",
      "60000/60000 [==============================] - 17s - loss: 0.2413 - acc: 0.9343 - val_loss: 0.2426 - val_acc: 0.9333\n",
      "Epoch 10/10\n",
      "60000/60000 [==============================] - 18s - loss: 0.2257 - acc: 0.9384 - val_loss: 0.2311 - val_acc: 0.9359\n",
      "Test loss: 0.231146301287\n",
      "Test accuracy: 0.9359\n"
     ]
    }
   ],
   "source": [
    "#Training model\n",
    "history = model.fit(train_features, train_labels,\n",
    "                    batch_size=batch_size,\n",
    "                    epochs=epochs,\n",
    "                    verbose=1,\n",
    "                    validation_data=(test_features, test_labels))\n",
    "#Evaluating model\n",
    "score = model.evaluate(test_features, test_labels, verbose=0)\n",
    "print('Test loss:', score[0])\n",
    "print('Test accuracy:', score[1])"
   ]
  },
  {
   "cell_type": "markdown",
   "metadata": {},
   "source": [
    "## Choosing the best model: 2 hidden layers with tanh and output layer with sigmoid activation and increasing the number of epochs to 20"
   ]
  },
  {
   "cell_type": "code",
   "execution_count": 30,
   "metadata": {
    "collapsed": true
   },
   "outputs": [],
   "source": [
    "epochs=20"
   ]
  },
  {
   "cell_type": "code",
   "execution_count": 31,
   "metadata": {},
   "outputs": [],
   "source": [
    "#Initialise model\n",
    "model = Sequential()\n",
    "#Add input and 1st hidden layer\n",
    "model.add(Dense(512, activation='tanh', input_dim = num_input_nodes))\n",
    "#Add 2nd hidden layer\n",
    "model.add(Dense(512, activation='tanh'))\n",
    "#Add output layer\n",
    "model.add(Dense(num_classes, activation='sigmoid'))"
   ]
  },
  {
   "cell_type": "code",
   "execution_count": 32,
   "metadata": {},
   "outputs": [
    {
     "name": "stdout",
     "output_type": "stream",
     "text": [
      "_________________________________________________________________\n",
      "Layer (type)                 Output Shape              Param #   \n",
      "=================================================================\n",
      "dense_16 (Dense)             (None, 512)               401920    \n",
      "_________________________________________________________________\n",
      "dense_17 (Dense)             (None, 512)               262656    \n",
      "_________________________________________________________________\n",
      "dense_18 (Dense)             (None, 10)                5130      \n",
      "=================================================================\n",
      "Total params: 669,706\n",
      "Trainable params: 669,706\n",
      "Non-trainable params: 0\n",
      "_________________________________________________________________\n"
     ]
    }
   ],
   "source": [
    "#Print model information\n",
    "model.summary()"
   ]
  },
  {
   "cell_type": "code",
   "execution_count": 33,
   "metadata": {
    "collapsed": true
   },
   "outputs": [],
   "source": [
    "#Compiling model: Using categorical crossentropy loss function and sgd optimiser\n",
    "model.compile(loss='categorical_crossentropy',\n",
    "              optimizer='sgd',\n",
    "              metrics=['accuracy'])\n"
   ]
  },
  {
   "cell_type": "code",
   "execution_count": 34,
   "metadata": {},
   "outputs": [
    {
     "name": "stdout",
     "output_type": "stream",
     "text": [
      "Train on 60000 samples, validate on 10000 samples\n",
      "Epoch 1/20\n",
      "60000/60000 [==============================] - 8s - loss: 0.6769 - acc: 0.8261 - val_loss: 0.3501 - val_acc: 0.9089\n",
      "Epoch 2/20\n",
      "60000/60000 [==============================] - 8s - loss: 0.3107 - acc: 0.9166 - val_loss: 0.2735 - val_acc: 0.9253\n",
      "Epoch 3/20\n",
      "60000/60000 [==============================] - 8s - loss: 0.2552 - acc: 0.9297 - val_loss: 0.2375 - val_acc: 0.9344\n",
      "Epoch 4/20\n",
      "60000/60000 [==============================] - 8s - loss: 0.2251 - acc: 0.9381 - val_loss: 0.2133 - val_acc: 0.9397\n",
      "Epoch 5/20\n",
      "60000/60000 [==============================] - 8s - loss: 0.2059 - acc: 0.9423 - val_loss: 0.2035 - val_acc: 0.9411\n",
      "Epoch 6/20\n",
      "60000/60000 [==============================] - 9s - loss: 0.1905 - acc: 0.9468 - val_loss: 0.1862 - val_acc: 0.9466\n",
      "Epoch 7/20\n",
      "60000/60000 [==============================] - 8s - loss: 0.1762 - acc: 0.9500 - val_loss: 0.1822 - val_acc: 0.9455\n",
      "Epoch 8/20\n",
      "60000/60000 [==============================] - 8s - loss: 0.1683 - acc: 0.9524 - val_loss: 0.1753 - val_acc: 0.9506\n",
      "Epoch 9/20\n",
      "60000/60000 [==============================] - 8s - loss: 0.1622 - acc: 0.9528 - val_loss: 0.1658 - val_acc: 0.9517\n",
      "Epoch 10/20\n",
      "60000/60000 [==============================] - 8s - loss: 0.1540 - acc: 0.9561 - val_loss: 0.1597 - val_acc: 0.9507\n",
      "Epoch 11/20\n",
      "60000/60000 [==============================] - 8s - loss: 0.1508 - acc: 0.9564 - val_loss: 0.1604 - val_acc: 0.9525\n",
      "Epoch 12/20\n",
      "60000/60000 [==============================] - 9s - loss: 0.1443 - acc: 0.9578 - val_loss: 0.1587 - val_acc: 0.9522\n",
      "Epoch 13/20\n",
      "60000/60000 [==============================] - 9s - loss: 0.1414 - acc: 0.9595 - val_loss: 0.1503 - val_acc: 0.9554\n",
      "Epoch 14/20\n",
      "60000/60000 [==============================] - 9s - loss: 0.1344 - acc: 0.9612 - val_loss: 0.1402 - val_acc: 0.9602\n",
      "Epoch 15/20\n",
      "60000/60000 [==============================] - 9s - loss: 0.1267 - acc: 0.9630 - val_loss: 0.1435 - val_acc: 0.9554\n",
      "Epoch 16/20\n",
      "60000/60000 [==============================] - 9s - loss: 0.1271 - acc: 0.9624 - val_loss: 0.1364 - val_acc: 0.9593\n",
      "Epoch 17/20\n",
      "60000/60000 [==============================] - 9s - loss: 0.1230 - acc: 0.9641 - val_loss: 0.1428 - val_acc: 0.9572\n",
      "Epoch 18/20\n",
      "60000/60000 [==============================] - 9s - loss: 0.1223 - acc: 0.9640 - val_loss: 0.1374 - val_acc: 0.9581\n",
      "Epoch 19/20\n",
      "60000/60000 [==============================] - 9s - loss: 0.1174 - acc: 0.9655 - val_loss: 0.1353 - val_acc: 0.9604\n",
      "Epoch 20/20\n",
      "60000/60000 [==============================] - 9s - loss: 0.1179 - acc: 0.9656 - val_loss: 0.1371 - val_acc: 0.9568\n",
      "Test loss: 0.137073442586\n",
      "Test accuracy: 0.9568\n"
     ]
    }
   ],
   "source": [
    "#Training model\n",
    "history = model.fit(train_features, train_labels,\n",
    "                    batch_size=batch_size,\n",
    "                    epochs=epochs,\n",
    "                    verbose=1,\n",
    "                    validation_data=(test_features, test_labels))\n",
    "#Evaluating model\n",
    "score = model.evaluate(test_features, test_labels, verbose=0)\n",
    "print('Test loss:', score[0])\n",
    "print('Test accuracy:', score[1])"
   ]
  },
  {
   "cell_type": "markdown",
   "metadata": {},
   "source": [
    "## Observation\n",
    "Increasing the number of epochs gave us better accuracy"
   ]
  },
  {
   "cell_type": "markdown",
   "metadata": {},
   "source": [
    "## Trying different batch size"
   ]
  },
  {
   "cell_type": "code",
   "execution_count": 35,
   "metadata": {
    "collapsed": true
   },
   "outputs": [],
   "source": [
    "batch_size=200"
   ]
  },
  {
   "cell_type": "code",
   "execution_count": 36,
   "metadata": {
    "collapsed": true
   },
   "outputs": [],
   "source": [
    "#Initialise model\n",
    "model = Sequential()\n",
    "#Add input and 1st hidden layer\n",
    "model.add(Dense(512, activation='tanh', input_dim = num_input_nodes))\n",
    "#Add 2nd hidden layer\n",
    "model.add(Dense(512, activation='tanh'))\n",
    "#Add output layer\n",
    "model.add(Dense(num_classes, activation='sigmoid'))"
   ]
  },
  {
   "cell_type": "code",
   "execution_count": 37,
   "metadata": {},
   "outputs": [
    {
     "name": "stdout",
     "output_type": "stream",
     "text": [
      "_________________________________________________________________\n",
      "Layer (type)                 Output Shape              Param #   \n",
      "=================================================================\n",
      "dense_19 (Dense)             (None, 512)               401920    \n",
      "_________________________________________________________________\n",
      "dense_20 (Dense)             (None, 512)               262656    \n",
      "_________________________________________________________________\n",
      "dense_21 (Dense)             (None, 10)                5130      \n",
      "=================================================================\n",
      "Total params: 669,706\n",
      "Trainable params: 669,706\n",
      "Non-trainable params: 0\n",
      "_________________________________________________________________\n"
     ]
    }
   ],
   "source": [
    "#Print model information\n",
    "model.summary()"
   ]
  },
  {
   "cell_type": "code",
   "execution_count": 38,
   "metadata": {
    "collapsed": true
   },
   "outputs": [],
   "source": [
    "#Compiling model: Using categorical crossentropy loss function and sgd optimiser\n",
    "model.compile(loss='categorical_crossentropy',\n",
    "              optimizer='sgd',\n",
    "              metrics=['accuracy'])"
   ]
  },
  {
   "cell_type": "code",
   "execution_count": 39,
   "metadata": {},
   "outputs": [
    {
     "name": "stdout",
     "output_type": "stream",
     "text": [
      "Train on 60000 samples, validate on 10000 samples\n",
      "Epoch 1/20\n",
      "60000/60000 [==============================] - 8s - loss: 0.9059 - acc: 0.7670 - val_loss: 0.4429 - val_acc: 0.8928\n",
      "Epoch 2/20\n",
      "60000/60000 [==============================] - 7s - loss: 0.3878 - acc: 0.8983 - val_loss: 0.3293 - val_acc: 0.9161\n",
      "Epoch 3/20\n",
      "60000/60000 [==============================] - 7s - loss: 0.3083 - acc: 0.9167 - val_loss: 0.2780 - val_acc: 0.9272\n",
      "Epoch 4/20\n",
      "60000/60000 [==============================] - 8s - loss: 0.2659 - acc: 0.9276 - val_loss: 0.2545 - val_acc: 0.9314\n",
      "Epoch 5/20\n",
      "60000/60000 [==============================] - 8s - loss: 0.2392 - acc: 0.9338 - val_loss: 0.2293 - val_acc: 0.9345\n",
      "Epoch 6/20\n",
      "60000/60000 [==============================] - 7s - loss: 0.2147 - acc: 0.9397 - val_loss: 0.2142 - val_acc: 0.9392\n",
      "Epoch 7/20\n",
      "60000/60000 [==============================] - 8s - loss: 0.2008 - acc: 0.9437 - val_loss: 0.2046 - val_acc: 0.9412\n",
      "Epoch 8/20\n",
      "60000/60000 [==============================] - 8s - loss: 0.1870 - acc: 0.9469 - val_loss: 0.1938 - val_acc: 0.9454\n",
      "Epoch 9/20\n",
      "60000/60000 [==============================] - 8s - loss: 0.1751 - acc: 0.9508 - val_loss: 0.1867 - val_acc: 0.9462\n",
      "Epoch 10/20\n",
      "60000/60000 [==============================] - 8s - loss: 0.1670 - acc: 0.9524 - val_loss: 0.1759 - val_acc: 0.9471\n",
      "Epoch 11/20\n",
      "60000/60000 [==============================] - 10s - loss: 0.1541 - acc: 0.9568 - val_loss: 0.1720 - val_acc: 0.9491 1s - loss: 0.\n",
      "Epoch 12/20\n",
      "60000/60000 [==============================] - 8s - loss: 0.1467 - acc: 0.9586 - val_loss: 0.1654 - val_acc: 0.9515\n",
      "Epoch 13/20\n",
      "60000/60000 [==============================] - 7s - loss: 0.1394 - acc: 0.9621 - val_loss: 0.1584 - val_acc: 0.9528\n",
      "Epoch 14/20\n",
      "60000/60000 [==============================] - 8s - loss: 0.1330 - acc: 0.9631 - val_loss: 0.1559 - val_acc: 0.9541\n",
      "Epoch 15/20\n",
      "60000/60000 [==============================] - 8s - loss: 0.1279 - acc: 0.9643 - val_loss: 0.1539 - val_acc: 0.9566\n",
      "Epoch 16/20\n",
      "60000/60000 [==============================] - 7s - loss: 0.1224 - acc: 0.9663 - val_loss: 0.1528 - val_acc: 0.9533\n",
      "Epoch 17/20\n",
      "60000/60000 [==============================] - 7s - loss: 0.1171 - acc: 0.9675 - val_loss: 0.1490 - val_acc: 0.9564\n",
      "Epoch 18/20\n",
      "60000/60000 [==============================] - 7s - loss: 0.1114 - acc: 0.9694 - val_loss: 0.1418 - val_acc: 0.9556\n",
      "Epoch 19/20\n",
      "60000/60000 [==============================] - 8s - loss: 0.1067 - acc: 0.9707 - val_loss: 0.1382 - val_acc: 0.9576\n",
      "Epoch 20/20\n",
      "60000/60000 [==============================] - 8s - loss: 0.1034 - acc: 0.9715 - val_loss: 0.1384 - val_acc: 0.9581\n",
      "Test loss: 0.138448170105\n",
      "Test accuracy: 0.9581\n"
     ]
    }
   ],
   "source": [
    "#Training model\n",
    "history = model.fit(train_features, train_labels,\n",
    "                    batch_size=batch_size,\n",
    "                    epochs=epochs,\n",
    "                    verbose=1,\n",
    "                    validation_data=(test_features, test_labels))\n",
    "#Evaluating model\n",
    "score = model.evaluate(test_features, test_labels, verbose=0)\n",
    "print('Test loss:', score[0])\n",
    "print('Test accuracy:', score[1])"
   ]
  },
  {
   "cell_type": "markdown",
   "metadata": {},
   "source": [
    "## Observation\n",
    "Increasing batch size increased accuracy."
   ]
  },
  {
   "cell_type": "code",
   "execution_count": 45,
   "metadata": {
    "collapsed": true
   },
   "outputs": [],
   "source": [
    "batch_size=200"
   ]
  },
  {
   "cell_type": "markdown",
   "metadata": {},
   "source": [
    "# Using optimiser sgd with momentum"
   ]
  },
  {
   "cell_type": "code",
   "execution_count": 46,
   "metadata": {
    "collapsed": true
   },
   "outputs": [],
   "source": [
    "#Initialise model\n",
    "model = Sequential()\n",
    "#Add input and 1st hidden layer\n",
    "model.add(Dense(512, activation='tanh', input_dim = num_input_nodes))\n",
    "#Add 2nd hidden layer\n",
    "model.add(Dense(512, activation='tanh'))\n",
    "#Add output layer\n",
    "model.add(Dense(num_classes, activation='sigmoid'))"
   ]
  },
  {
   "cell_type": "code",
   "execution_count": 47,
   "metadata": {},
   "outputs": [
    {
     "name": "stdout",
     "output_type": "stream",
     "text": [
      "_________________________________________________________________\n",
      "Layer (type)                 Output Shape              Param #   \n",
      "=================================================================\n",
      "dense_25 (Dense)             (None, 512)               401920    \n",
      "_________________________________________________________________\n",
      "dense_26 (Dense)             (None, 512)               262656    \n",
      "_________________________________________________________________\n",
      "dense_27 (Dense)             (None, 10)                5130      \n",
      "=================================================================\n",
      "Total params: 669,706\n",
      "Trainable params: 669,706\n",
      "Non-trainable params: 0\n",
      "_________________________________________________________________\n"
     ]
    }
   ],
   "source": [
    "#Print model information\n",
    "model.summary()"
   ]
  },
  {
   "cell_type": "code",
   "execution_count": 48,
   "metadata": {
    "collapsed": true
   },
   "outputs": [],
   "source": [
    "#Compiling model: Using categorical crossentropy loss function and sgd optimiser with momentum\n",
    "model.compile(loss='categorical_crossentropy',\n",
    "              optimizer=keras.optimizers.SGD(lr=0.01, momentum=0.9, nesterov=False),\n",
    "              metrics=['accuracy'])"
   ]
  },
  {
   "cell_type": "code",
   "execution_count": 49,
   "metadata": {},
   "outputs": [
    {
     "name": "stdout",
     "output_type": "stream",
     "text": [
      "Train on 60000 samples, validate on 10000 samples\n",
      "Epoch 1/20\n",
      "60000/60000 [==============================] - 7s - loss: 0.5374 - acc: 0.8511 - val_loss: 0.4042 - val_acc: 0.8830\n",
      "Epoch 2/20\n",
      "60000/60000 [==============================] - 7s - loss: 0.4036 - acc: 0.8795 - val_loss: 0.4159 - val_acc: 0.8752\n",
      "Epoch 3/20\n",
      "60000/60000 [==============================] - 8s - loss: 0.4200 - acc: 0.8707 - val_loss: 0.4208 - val_acc: 0.8678\n",
      "Epoch 4/20\n",
      "60000/60000 [==============================] - 7s - loss: 0.4312 - acc: 0.8627 - val_loss: 0.3850 - val_acc: 0.8849\n",
      "Epoch 5/20\n",
      "60000/60000 [==============================] - 8s - loss: 0.3901 - acc: 0.8775 - val_loss: 0.3676 - val_acc: 0.8883\n",
      "Epoch 6/20\n",
      "60000/60000 [==============================] - 8s - loss: 0.3726 - acc: 0.8831 - val_loss: 0.3325 - val_acc: 0.8986\n",
      "Epoch 7/20\n",
      "60000/60000 [==============================] - 8s - loss: 0.3585 - acc: 0.8864 - val_loss: 0.4049 - val_acc: 0.8661\n",
      "Epoch 8/20\n",
      "60000/60000 [==============================] - 8s - loss: 0.3588 - acc: 0.8875 - val_loss: 0.3190 - val_acc: 0.8993\n",
      "Epoch 9/20\n",
      "60000/60000 [==============================] - 8s - loss: 0.3328 - acc: 0.8945 - val_loss: 0.3302 - val_acc: 0.8949\n",
      "Epoch 10/20\n",
      "60000/60000 [==============================] - 8s - loss: 0.3114 - acc: 0.9023 - val_loss: 0.3006 - val_acc: 0.9063\n",
      "Epoch 11/20\n",
      "60000/60000 [==============================] - 8s - loss: 0.2984 - acc: 0.9073 - val_loss: 0.2837 - val_acc: 0.9107\n",
      "Epoch 12/20\n",
      "60000/60000 [==============================] - 9s - loss: 0.2906 - acc: 0.9076 - val_loss: 0.2888 - val_acc: 0.9128\n",
      "Epoch 13/20\n",
      "60000/60000 [==============================] - 9s - loss: 0.2786 - acc: 0.9138 - val_loss: 0.2635 - val_acc: 0.9172\n",
      "Epoch 14/20\n",
      "60000/60000 [==============================] - 9s - loss: 0.2657 - acc: 0.9174 - val_loss: 0.2521 - val_acc: 0.9213\n",
      "Epoch 15/20\n",
      "60000/60000 [==============================] - 8s - loss: 0.2698 - acc: 0.9150 - val_loss: 0.2822 - val_acc: 0.9123\n",
      "Epoch 16/20\n",
      "60000/60000 [==============================] - 9s - loss: 0.2889 - acc: 0.9092 - val_loss: 0.3035 - val_acc: 0.9042\n",
      "Epoch 17/20\n",
      "60000/60000 [==============================] - 9s - loss: 0.2793 - acc: 0.9117 - val_loss: 0.2474 - val_acc: 0.9210\n",
      "Epoch 18/20\n",
      "60000/60000 [==============================] - 8s - loss: 0.2463 - acc: 0.9223 - val_loss: 0.2385 - val_acc: 0.9253\n",
      "Epoch 19/20\n",
      "60000/60000 [==============================] - 9s - loss: 0.2437 - acc: 0.9247 - val_loss: 0.2381 - val_acc: 0.9244\n",
      "Epoch 20/20\n",
      "60000/60000 [==============================] - 9s - loss: 0.2350 - acc: 0.9267 - val_loss: 0.2346 - val_acc: 0.9255\n",
      "Test loss: 0.234642665607\n",
      "Test accuracy: 0.9255\n"
     ]
    }
   ],
   "source": [
    "#Training model\n",
    "history = model.fit(train_features, train_labels,\n",
    "                    batch_size=batch_size,\n",
    "                    epochs=epochs,\n",
    "                    verbose=1,\n",
    "                    validation_data=(test_features, test_labels))\n",
    "#Evaluating model\n",
    "score = model.evaluate(test_features, test_labels, verbose=0)\n",
    "print('Test loss:', score[0])\n",
    "print('Test accuracy:', score[1])"
   ]
  },
  {
   "cell_type": "markdown",
   "metadata": {},
   "source": [
    "## Using optimiser: Adagrad "
   ]
  },
  {
   "cell_type": "code",
   "execution_count": 50,
   "metadata": {},
   "outputs": [],
   "source": [
    "#Initialise model\n",
    "model = Sequential()\n",
    "#Add input and 1st hidden layer\n",
    "model.add(Dense(512, activation='tanh', input_dim = num_input_nodes))\n",
    "#Add 2nd hidden layer\n",
    "model.add(Dense(512, activation='tanh'))\n",
    "#Add output layer\n",
    "model.add(Dense(num_classes, activation='sigmoid'))"
   ]
  },
  {
   "cell_type": "code",
   "execution_count": 51,
   "metadata": {
    "collapsed": true
   },
   "outputs": [],
   "source": [
    "#Compiling model: Using categorical crossentropy loss function and adagrad optimiser\n",
    "model.compile(loss='categorical_crossentropy',\n",
    "              optimizer='Adagrad',\n",
    "              metrics=['accuracy'])"
   ]
  },
  {
   "cell_type": "code",
   "execution_count": 52,
   "metadata": {},
   "outputs": [
    {
     "name": "stdout",
     "output_type": "stream",
     "text": [
      "Train on 60000 samples, validate on 10000 samples\n",
      "Epoch 1/20\n",
      "60000/60000 [==============================] - 10s - loss: 0.5208 - acc: 0.8313 - val_loss: 0.2306 - val_acc: 0.9319\n",
      "Epoch 2/20\n",
      "60000/60000 [==============================] - 9s - loss: 0.2194 - acc: 0.9329 - val_loss: 0.1994 - val_acc: 0.9365\n",
      "Epoch 3/20\n",
      "60000/60000 [==============================] - 10s - loss: 0.1766 - acc: 0.9468 - val_loss: 0.1692 - val_acc: 0.9477\n",
      "Epoch 4/20\n",
      "60000/60000 [==============================] - 10s - loss: 0.1498 - acc: 0.9547 - val_loss: 0.1489 - val_acc: 0.9524\n",
      "Epoch 5/20\n",
      "60000/60000 [==============================] - 10s - loss: 0.1347 - acc: 0.9593 - val_loss: 0.1447 - val_acc: 0.9553\n",
      "Epoch 6/20\n",
      "60000/60000 [==============================] - 10s - loss: 0.1224 - acc: 0.9634 - val_loss: 0.1366 - val_acc: 0.9580\n",
      "Epoch 7/20\n",
      "60000/60000 [==============================] - 11s - loss: 0.1127 - acc: 0.9655 - val_loss: 0.1241 - val_acc: 0.9624\n",
      "Epoch 8/20\n",
      "60000/60000 [==============================] - 11s - loss: 0.1037 - acc: 0.9684 - val_loss: 0.1245 - val_acc: 0.9642\n",
      "Epoch 9/20\n",
      "60000/60000 [==============================] - 10s - loss: 0.0974 - acc: 0.9700 - val_loss: 0.1170 - val_acc: 0.9635\n",
      "Epoch 10/20\n",
      "60000/60000 [==============================] - 10s - loss: 0.0901 - acc: 0.9727 - val_loss: 0.1164 - val_acc: 0.9634\n",
      "Epoch 11/20\n",
      "60000/60000 [==============================] - 10s - loss: 0.0842 - acc: 0.9741 - val_loss: 0.1067 - val_acc: 0.9657\n",
      "Epoch 12/20\n",
      "60000/60000 [==============================] - 10s - loss: 0.0774 - acc: 0.9763 - val_loss: 0.1030 - val_acc: 0.9668\n",
      "Epoch 13/20\n",
      "60000/60000 [==============================] - 10s - loss: 0.0720 - acc: 0.9784 - val_loss: 0.1050 - val_acc: 0.9681\n",
      "Epoch 14/20\n",
      "60000/60000 [==============================] - 11s - loss: 0.0679 - acc: 0.9798 - val_loss: 0.1039 - val_acc: 0.9672\n",
      "Epoch 15/20\n",
      "60000/60000 [==============================] - 10s - loss: 0.0646 - acc: 0.9813 - val_loss: 0.0971 - val_acc: 0.9701\n",
      "Epoch 16/20\n",
      "60000/60000 [==============================] - 10s - loss: 0.0610 - acc: 0.9816 - val_loss: 0.0954 - val_acc: 0.9689\n",
      "Epoch 17/20\n",
      "60000/60000 [==============================] - 10s - loss: 0.0590 - acc: 0.9822 - val_loss: 0.0939 - val_acc: 0.9694\n",
      "Epoch 18/20\n",
      "60000/60000 [==============================] - 10s - loss: 0.0565 - acc: 0.9835 - val_loss: 0.0949 - val_acc: 0.9676\n",
      "Epoch 19/20\n",
      "60000/60000 [==============================] - 10s - loss: 0.0539 - acc: 0.9841 - val_loss: 0.0977 - val_acc: 0.9696\n",
      "Epoch 20/20\n",
      "60000/60000 [==============================] - 10s - loss: 0.0511 - acc: 0.9851 - val_loss: 0.0937 - val_acc: 0.9711\n",
      "Test loss: 0.0937156034093\n",
      "Test accuracy: 0.9711\n"
     ]
    }
   ],
   "source": [
    "#Training model\n",
    "history = model.fit(train_features, train_labels,\n",
    "                    batch_size=batch_size,\n",
    "                    epochs=epochs,\n",
    "                    verbose=1,\n",
    "                    validation_data=(test_features, test_labels))\n",
    "#Evaluating model\n",
    "score = model.evaluate(test_features, test_labels, verbose=0)\n",
    "print('Test loss:', score[0])\n",
    "print('Test accuracy:', score[1])"
   ]
  },
  {
   "cell_type": "markdown",
   "metadata": {},
   "source": [
    "# Observation\n",
    "Adagrad optimiser gives us the best accuracy of 97.11%"
   ]
  },
  {
   "cell_type": "markdown",
   "metadata": {},
   "source": [
    "## Plotting loss and accuracy of this model"
   ]
  },
  {
   "cell_type": "code",
   "execution_count": 53,
   "metadata": {
    "collapsed": true
   },
   "outputs": [],
   "source": [
    "#Function to plot loss and accuracy\n",
    "def plot_model(model_info):\n",
    "    fig, axis = plt.subplots(1,2,figsize=(15,5))\n",
    "    # summarize history for accuracy\n",
    "    # summarize history for loss\n",
    "    axis[1].plot(range(1,len(model_info.history['loss'])+1),model_info.history['loss'])\n",
    "    axis[1].plot(range(1,len(model_info.history['val_loss'])+1),model_info.history['val_loss'])\n",
    "    axis[1].set_title('Model Loss')\n",
    "    axis[1].set_ylabel('Loss')\n",
    "    axis[1].set_xlabel('Epoch')\n",
    "    axis[1].set_xticks(np.arange(1,len(model_info.history['loss'])+1),len(model_info.history['loss'])/10)\n",
    "    axis[1].legend(['train', 'val'], loc='best')\n",
    "    axis[0].plot(range(1,len(model_info.history['acc'])+1),model_info.history['acc'])\n",
    "    axis[0].plot(range(1,len(model_info.history['val_acc'])+1),model_info.history['val_acc'])\n",
    "    axis[0].set_title('Model Accuracy')\n",
    "    axis[0].set_ylabel('Accuracy')\n",
    "    axis[0].set_xlabel('Epoch')\n",
    "    axis[0].set_xticks(np.arange(1,len(model_info.history['acc'])+1),len(model_info.history['acc'])/10)\n",
    "    axis[0].legend(['train', 'val'], loc='best')\n",
    "    plt.show()"
   ]
  },
  {
   "cell_type": "code",
   "execution_count": 54,
   "metadata": {},
   "outputs": [
    {
     "data": {
      "image/png": "[encoded data removed]",
      "text/plain": [
       "<matplotlib.figure.Figure at 0x7f5d3fdb4240>"
      ]
     },
     "metadata": {},
     "output_type": "display_data"
    }
   ],
   "source": [
    "plot_model(model_info)"
   ]
  },
  {
   "cell_type": "markdown",
   "metadata": {},
   "source": [
    "# Observation\n",
    "The best result was obtained from the model with\n",
    "2 hidden layers of 512 nodes each with 'tanh' activation and an output layer with 'sigmoid' activation\n",
    "The Adagrad optimiser gave us the best result with an accuracy of 97.11%"
   ]
  },
  {
   "cell_type": "code",
   "execution_count": null,
   "metadata": {
    "collapsed": true
   },
   "outputs": [],
   "source": []
  }
 ],
 "metadata": {
  "kernelspec": {
   "display_name": "Python 3",
   "language": "python",
   "name": "python3"
  },
  "language_info": {
   "codemirror_mode": {
    "name": "ipython",
    "version": 3
   },
   "file_extension": ".py",
   "mimetype": "text/x-python",
   "name": "python",
   "nbconvert_exporter": "python",
   "pygments_lexer": "ipython3",
   "version": "3.6.3"
  }
 },
 "nbformat": 4,
 "nbformat_minor": 2
}
